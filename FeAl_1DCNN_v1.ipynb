{
  "nbformat": 4,
  "nbformat_minor": 0,
  "metadata": {
    "colab": {
      "name": "FeAl_1DCNN_v1.ipynb",
      "provenance": [],
      "mount_file_id": "12V5NrX7ITPvZpb0-frlsvJUDsWgq1Guw",
      "authorship_tag": "ABX9TyPt9ydaoLax3jIDGqQnNP/F",
      "include_colab_link": true
    },
    "kernelspec": {
      "name": "python3",
      "display_name": "Python 3"
    },
    "accelerator": "GPU"
  },
  "cells": [
    {
      "cell_type": "markdown",
      "metadata": {
        "id": "view-in-github",
        "colab_type": "text"
      },
      "source": [
        "<a href=\"https://colab.research.google.com/github/a356617605/1DCNN/blob/main/FeAl_1DCNN_v1.ipynb\" target=\"_parent\"><img src=\"https://colab.research.google.com/assets/colab-badge.svg\" alt=\"Open In Colab\"/></a>"
      ]
    },
    {
      "cell_type": "markdown",
      "metadata": {
        "id": "ehnb4HhDBLLS"
      },
      "source": [
        ""
      ]
    },
    {
      "cell_type": "code",
      "metadata": {
        "colab": {
          "base_uri": "https://localhost:8080/"
        },
        "id": "RbxOGZzUkIxH",
        "outputId": "e1fe74b3-8f12-4d3b-80a4-24f21cd48e7e"
      },
      "source": [
        "from google.colab import drive\n",
        "drive.mount('/content/gdrive')"
      ],
      "execution_count": 13,
      "outputs": [
        {
          "output_type": "stream",
          "text": [
            "Drive already mounted at /content/gdrive; to attempt to forcibly remount, call drive.mount(\"/content/gdrive\", force_remount=True).\n"
          ],
          "name": "stdout"
        }
      ]
    },
    {
      "cell_type": "code",
      "metadata": {
        "colab": {
          "base_uri": "https://localhost:8080/"
        },
        "id": "q8_V2JH-nEwm",
        "outputId": "c9d2aec0-f26f-4f27-ab54-c81be5629986"
      },
      "source": [
        "%cd /content/gdrive/MyDrive/Colab Notebooks/FeAl_1DCNN"
      ],
      "execution_count": 14,
      "outputs": [
        {
          "output_type": "stream",
          "text": [
            "/content/gdrive/MyDrive/Colab Notebooks/FeAl_1DCNN\n"
          ],
          "name": "stdout"
        }
      ]
    },
    {
      "cell_type": "code",
      "metadata": {
        "id": "9MdpK_MwWbRm"
      },
      "source": [
        "%matplotlib inline"
      ],
      "execution_count": 15,
      "outputs": []
    },
    {
      "cell_type": "code",
      "metadata": {
        "id": "4hyAkwD1gtY5"
      },
      "source": [
        "import os\n",
        "import numpy as np\n",
        "import tensorflow as tf\n",
        "import matplotlib.pyplot as plt\n",
        "from sklearn.preprocessing import OneHotEncoder\n",
        "from sklearn.model_selection import KFold\n",
        "import random as rd\n",
        "from sklearn.metrics import confusion_matrix\n",
        "import seaborn as sn\n",
        "import pandas as pd"
      ],
      "execution_count": 16,
      "outputs": []
    },
    {
      "cell_type": "code",
      "metadata": {
        "id": "Y3IPM-vpg1Rx"
      },
      "source": [
        "# Parameters\n",
        "length_size = int(0.69/0.015*2+1)   #1D size\n",
        "training_dir = 'Training/'   #in one folder\n",
        "save_dir = 'saved_models_1CNN_layer_kernel_size_10_neuro_256_new_data_3class_multi_models/' \n",
        "if not os.path.isdir(save_dir):\n",
        "    os.makedirs(save_dir) "
      ],
      "execution_count": 17,
      "outputs": []
    },
    {
      "cell_type": "code",
      "metadata": {
        "id": "CmmGo6bCg_qR"
      },
      "source": [
        "################################################################# \n",
        "#Functions\n",
        "################################################################\n",
        "# Data normalization from 0 to 1 for double column dataframe, returns single column array\n",
        "def normdata(data):\n",
        "    \n",
        "    (len1,w1) = np.shape(data)\n",
        "    ndata = np.zeros([len1,w1//2])\n",
        "    for i in range(w1//2):\n",
        "        ndata[:,i]=(data[:,2*i+1]-min(data[:,2*i+1]))/(max(data[:,2*i+1])-min(data[:,2*i+1]))\n",
        "    return ndata\n",
        "# defien model name\n",
        "def get_model_name(k):\n",
        "    return 'model_'+str(k)+'.h5'\n",
        "# Data augmendatation for simulated XRD patterns\n",
        "def augdata(data,num):\n",
        "    (len1,w1) = np.shape(data)\n",
        "    newaugd=np.zeros([len1,num])    \n",
        "    for i in range(num):\n",
        "        #adding shift\n",
        "        cut = np.random.randint(-4,4)\n",
        "        #shift to left\n",
        "        if cut>=0:\n",
        "            newaugd[:,i] = np.concatenate((data[cut:93,i],np.zeros([cut,]),data[93+cut:,i],np.zeros([cut,])), axis=0)\n",
        "        #shift to right\n",
        "        else:\n",
        "            newaugd[:,i] = np.concatenate((np.zeros([cut*-1,]), data[0:93+cut,i], np.zeros([cut*-1,]), data[93:186+cut,i]), axis=0)\n",
        "       \n",
        "        # #plot data augmented curve\n",
        "        # fig2D = plt.figure(figsize=(4,4))                \n",
        "        # ax2D = fig2D.add_subplot(111) \n",
        "        # plt.plot(sim_matrix_FeFe[:93, 0], data[:93, i],  label='Original data') \n",
        "        # plt.plot(sim_matrix_FeFe[:93, 0], newaugd[:93, i], label='Data augment')     \n",
        "        # plt.legend(loc='upper right')\n",
        "        \n",
        "        # fig2D = plt.figure(figsize=(4,4))                \n",
        "        # ax2D = fig2D.add_subplot(111) \n",
        "        # plt.plot(sim_matrix_FeFe[:93, 0], data[93:186, i],  label='Original data') \n",
        "        # plt.plot(sim_matrix_FeFe[:93, 0], newaugd[93:186, i], label='Data augment') \n",
        "        # plt.le       \n",
        "    return newaugd"
      ],
      "execution_count": 18,
      "outputs": []
    },
    {
      "cell_type": "code",
      "metadata": {
        "id": "JVTjh-fMhGY5"
      },
      "source": [
        "################################################################\n",
        "# Load data and preprocess\n",
        "################################################################\n",
        "\n",
        "sim_matrix_FeFe = np.load(training_dir+'zSDM_simu_FeAl_BCC_FeFe.npy')\n",
        "sim_matrix_AlAl = np.load(training_dir+'zSDM_simu_FeAl_BCC_AlAl.npy')\n",
        "sim_matrix = np.concatenate((sim_matrix_FeFe, sim_matrix_AlAl), axis=0)\n",
        "# Data normalization\n",
        "nsim_matrix_FeFe = normdata(sim_matrix_FeFe)\n",
        "nsim_matrix_AlAl = normdata(sim_matrix_AlAl)\n",
        "nsim_matrix = np.concatenate((nsim_matrix_FeFe, nsim_matrix_AlAl), axis=0)\n",
        "\n",
        "sim_stru_B2_FeFe = np.load(training_dir+'zSDM_simu_FeAl_B2_FeFe.npy')\n",
        "sim_stru_B2_AlAl = np.load(training_dir+'zSDM_simu_FeAl_B2_AlAl.npy')\n",
        "# Data normalization\n",
        "nsim_stru_B2_FeFe = normdata(sim_stru_B2_FeFe)\n",
        "nsim_stru_B2_AlAl = normdata(sim_stru_B2_AlAl)\n",
        "nsim_stru_B2= np.concatenate((nsim_stru_B2_FeFe, nsim_stru_B2_AlAl), axis=0)\n",
        "\n",
        "sim_stru_D03_FeFe = np.load(training_dir+'zSDM_simu_FeAl_D03_FeFe.npy')\n",
        "sim_stru_D03_AlAl = np.load(training_dir+'zSDM_simu_FeAl_D03_AlAl.npy')\n",
        "# Data normalization\n",
        "nsim_stru_D03_FeFe = normdata(sim_stru_D03_FeFe)\n",
        "nsim_stru_D03_AlAl = normdata(sim_stru_D03_AlAl)\n",
        "nsim_stru_D03= np.concatenate((nsim_stru_D03_FeFe, nsim_stru_D03_AlAl), axis=0)\n",
        "\n",
        "# Labels\n",
        "label_nsim_matrix = np.zeros((nsim_matrix.shape[1], 1), dtype=int)\n",
        "label_nsim_stru_B2 = np.ones((nsim_stru_B2.shape[1], 1), dtype=int)\n",
        "label_nsim_stru_D03 = np.ones((nsim_stru_D03.shape[1], 1), dtype=int)+1\n",
        "\n",
        "x_sim_ori = np.concatenate((nsim_matrix, nsim_stru_B2, nsim_stru_D03), axis=1)\n",
        "y_sim_ori = np.concatenate((label_nsim_matrix, label_nsim_stru_B2, label_nsim_stru_D03), axis=0)\n",
        "\n",
        "#Data augment\n",
        "(len1, sim_num) = np.shape(x_sim_ori)\n",
        "x_sim_augd= augdata(x_sim_ori, sim_num)   \n",
        "y_sim_augd = y_sim_ori\n",
        "# Prepare simulated arrays for training and testing\n",
        "x_sim = np.concatenate((x_sim_ori, x_sim_augd), axis=1).T\n",
        "y_sim = np.concatenate((y_sim_ori, y_sim_augd), axis=0)"
      ],
      "execution_count": 19,
      "outputs": []
    },
    {
      "cell_type": "code",
      "metadata": {
        "colab": {
          "base_uri": "https://localhost:8080/"
        },
        "id": "vpKGqI3qhTaD",
        "outputId": "e3121ed7-619c-4430-9ef6-ae0bb50b69c7"
      },
      "source": [
        "################################################################\n",
        "# Perform training and cross-validation\n",
        "################################################################\n",
        "fold = 5 # Number of k-folds\n",
        "k_fold = KFold(n_splits=fold, shuffle=True)\n",
        "\n",
        "# Create auxiliary arrays\n",
        "accuracy=[]\n",
        "logs=[]\n",
        "ground_truth=[]\n",
        "predictions_ord=[]\n",
        "trains=[]\n",
        "tests=[]\n",
        "trains_combine=[]\n",
        "trains_y=[]\n",
        "\n",
        "# split into train, test, and another test dataset\n",
        "all_sim = np.concatenate((x_sim, y_sim), axis=1)\n",
        "#Data random sequence\n",
        "idx = rd.sample(range(all_sim.shape[0]), all_sim.shape[0]) \n",
        "all_sim_shuttle = all_sim[idx]\n",
        "train_test = all_sim_shuttle[:int(all_sim.shape[0]*0.9), :]\n",
        "test_sec = all_sim_shuttle[int(all_sim.shape[0]*0.9):, :]\n",
        "     \n",
        "# Run cross validation\n",
        "for k, (train, test) in enumerate(k_fold.split(train_test[:, :-1], train_test[:, -1])):\n",
        "    print('k=', k)\n",
        "    #Save splits for later use\n",
        "    trains.append(train)\n",
        "    tests.append(test)\n",
        "\n",
        "    train_x = train_test[train, :-1]\n",
        "    train_y = train_test[train, -1]\n",
        "    test_x = train_test[test, :-1]\n",
        "    test_y = train_test[test, -1]\n",
        "\n",
        "    # Network Parameters\n",
        "    BATCH_SIZE=32\n",
        "    epochs=30\n",
        "    n_input = 93 # \n",
        "    n_features= 2  # FeFe and ALAL\n",
        "    n_classes = 3 # matrix, B2, D03\n",
        "\n",
        "    enc = OneHotEncoder(sparse=False)\n",
        "    \n",
        "    # Define train data\n",
        "    train_x_dim = np.stack((train_x[:, :n_input], train_x[:, n_input:]), axis=2)\n",
        "    trains_y.append(train_y)\n",
        "    train_y_hot = enc.fit_transform(train_y.reshape(-1,1))\n",
        "    \n",
        "    # Define test data\n",
        "    test_x_dim = np.stack((test_x[:, :n_input], test_x[:, n_input:]), axis=2)\n",
        "    test_y_hot = enc.fit_transform(test_y.reshape(-1,1))\n",
        "    \n",
        "    # Define network structure\n",
        "    model = tf.keras.models.Sequential([\n",
        "            tf.keras.layers.Conv1D(64, 10, strides=1, padding='valid',input_shape=(n_input, n_features), activation='relu'),   \n",
        "            # tf.keras.layers.Conv1D(128, 10, strides=1, padding='valid', activation='relu'),   \n",
        "            tf.keras.layers.Dropout(0.5),   \n",
        "            tf.keras.layers.MaxPool1D(pool_size=2),\n",
        "            tf.keras.layers.Flatten(),\n",
        "            tf.keras.layers.Dense(256, activation='relu'),\n",
        "            tf.keras.layers.Dense(n_classes, activation='softmax')\n",
        "            ])\n",
        "     \n",
        "    # Compile model\n",
        "    Optimizer = tf.keras.optimizers.Adam(learning_rate=0.001)\n",
        "    model.compile(loss='categorical_crossentropy',\n",
        "                  optimizer=Optimizer,\n",
        "                  metrics=['accuracy'])\n",
        "    \n",
        "    # Fit model\n",
        "    history = model.fit(train_x_dim, train_y_hot, batch_size=BATCH_SIZE, epochs=epochs,\n",
        "                      verbose=0, validation_data=(test_x_dim, test_y_hot))\n",
        "\n",
        "    #save model\n",
        "    model_path = os.path.join(save_dir, get_model_name(k))\n",
        "    model.save(model_path)"
      ],
      "execution_count": 20,
      "outputs": [
        {
          "output_type": "stream",
          "text": [
            "k= 0\n",
            "k= 1\n",
            "k= 2\n",
            "k= 3\n",
            "k= 4\n"
          ],
          "name": "stdout"
        }
      ]
    },
    {
      "cell_type": "code",
      "metadata": {
        "colab": {
          "base_uri": "https://localhost:8080/",
          "height": 833
        },
        "id": "eeJ8X8w2j94j",
        "outputId": "dea10c6b-8a9f-40ec-9d72-d6c169cd9bf3"
      },
      "source": [
        "#plot results   \n",
        "acc = history.history['accuracy']\n",
        "val_acc = history.history['val_accuracy']\n",
        "loss = history.history['loss']\n",
        "val_loss = history.history['val_loss']\n",
        "\n",
        "epochs = range(len(acc))\n",
        "\n",
        "fig = plt.figure() \n",
        "plt.plot(epochs, acc, c='green', linewidth=3, label='Training accuracy')\n",
        "plt.plot(epochs, val_acc, c='orangered', linewidth=3, label='Validation accuracy')\n",
        "plt.xlabel(\"Epochs\", fontsize=15)\n",
        "plt.ylabel(\"Accuracy\", fontsize=15)\n",
        "plt.legend(loc='lower right', fontsize=12)\n",
        "      \n",
        "fig = plt.figure() \n",
        "plt.plot(epochs, loss, c='green', linewidth=3, label='Training Loss')\n",
        "plt.plot(epochs, val_loss, c='orangered', linewidth=3, label='Validation Loss')\n",
        "plt.xlabel(\"Epochs\", fontsize=15)\n",
        "plt.ylabel(\"Loss\", fontsize=15)\n",
        "plt.xticks(fontsize=12)\n",
        "plt.yticks(fontsize=12)\n",
        "plt.legend(loc='upper right', fontsize=12)  \n",
        "\n",
        "################################################################\n",
        "# Test using simulated data\n",
        "################################################################\n",
        "test_sec_x, test_sec_y = test_sec[:, :-1], test_sec[:, -1]\n",
        "test_sec_y_hot = enc.fit_transform(test_sec_y.reshape(-1,1))\n",
        "test_sec_x_dim = np.stack((test_sec_x[:, :n_input], test_sec_x[:, n_input:]), axis=2)\n",
        "test_sec_y_predictions = model.predict(test_sec_x_dim[:,:,:]) \n",
        "\n",
        "#Plotting a Confusion Matrix\n",
        "matrix = confusion_matrix(test_sec_y_hot.argmax(axis=1), test_sec_y_predictions.argmax(axis=1))    \n",
        "cm_plot_labels = ['BCC','B2','D03']\n",
        "df_cm = pd.DataFrame(matrix, index = [i for i in cm_plot_labels],\n",
        "                  columns = [i for i in cm_plot_labels])\n",
        "plt.figure()\n",
        "plt.title('Confusion matrix')\n",
        "sn.heatmap(df_cm, cmap=plt.cm.Reds, annot=True, fmt=\"d\")\n",
        "plt.xlabel('Predicted label')\n",
        "plt.ylabel('True label')\n",
        "plt.show()\n",
        "# break"
      ],
      "execution_count": 21,
      "outputs": [
        {
          "output_type": "display_data",
          "data": {
            "image/png": "[encoded data removed]",
            "text/plain": [
              "<Figure size 432x288 with 1 Axes>"
            ]
          },
          "metadata": {
            "tags": [],
            "needs_background": "light"
          }
        },
        {
          "output_type": "display_data",
          "data": {
            "image/png": "[encoded data removed]",
            "text/plain": [
              "<Figure size 432x288 with 1 Axes>"
            ]
          },
          "metadata": {
            "tags": [],
            "needs_background": "light"
          }
        },
        {
          "output_type": "display_data",
          "data": {
            "image/png": "[encoded data removed]",
            "text/plain": [
              "<Figure size 432x288 with 2 Axes>"
            ]
          },
          "metadata": {
            "tags": [],
            "needs_background": "light"
          }
        }
      ]
    }
  ]
}